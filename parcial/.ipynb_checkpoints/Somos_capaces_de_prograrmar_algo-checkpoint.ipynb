{
 "cells": [
  {
   "cell_type": "code",
   "execution_count": 4,
   "metadata": {},
   "outputs": [],
   "source": [
    "import math\n",
    "from math import pi, sqrt, tan, cos, sin\n",
    "from numpy import linspace, shape, array\n",
    "import matplotlib.pyplot as plt\n",
    "from scipy.integrate import odeint"
   ]
  },
  {
   "cell_type": "code",
   "execution_count": 5,
   "metadata": {},
   "outputs": [],
   "source": [
    "#parametros\n",
    "k=1\n",
    "b=1\n",
    "m=2\n",
    "g=9.8\n",
    "\n",
    "def pendulo (init, t):\n",
    "    \n",
    "    dl=init[3]\n",
    "    dw=init[2]\n",
    "    l=init[0]\n",
    "    w=init[1]\n",
    "\n",
    "    dv_l=l*dw*dw+g*cos(w)-(k/m)*(l-b)\n",
    "    dv_w=(-g/l)*sin(w)-(2/l)*dl*dw   \n",
    "    \n",
    "    return array([dv_w,dv_l,dl,dw],float)\n"
   ]
  },
  {
   "cell_type": "code",
   "execution_count": 7,
   "metadata": {},
   "outputs": [],
   "source": [
    "t= linspace(0, 4, 200)\n",
    "\n",
    "init= [pi/4, 5, 1, 1,]\n",
    "\n",
    "sol,outodeint = odeint(pendulo, init, t, full_output=True)\n",
    "vww, vll, ll, ww = sol.T"
   ]
  },
  {
   "cell_type": "code",
   "execution_count": 11,
   "metadata": {},
   "outputs": [
    {
     "data": {
      "text/plain": [
       "[<matplotlib.lines.Line2D at 0x7f10bdae0b00>]"
      ]
     },
     "execution_count": 11,
     "metadata": {},
     "output_type": "execute_result"
    },
    {
     "data": {
      "image/png": "[encoded data removed]",
      "text/plain": [
       "<matplotlib.figure.Figure at 0x7f10bdb75710>"
      ]
     },
     "metadata": {
      "needs_background": "light"
     },
     "output_type": "display_data"
    }
   ],
   "source": [
    "plt.plot(t, ll, 'o')"
   ]
  },
  {
   "cell_type": "code",
   "execution_count": null,
   "metadata": {},
   "outputs": [],
   "source": []
  }
 ],
 "metadata": {
  "kernelspec": {
   "display_name": "Python 3",
   "language": "python",
   "name": "python3"
  },
  "language_info": {
   "codemirror_mode": {
    "name": "ipython",
    "version": 3
   },
   "file_extension": ".py",
   "mimetype": "text/x-python",
   "name": "python",
   "nbconvert_exporter": "python",
   "pygments_lexer": "ipython3",
   "version": "3.6.8"
  }
 },
 "nbformat": 4,
 "nbformat_minor": 2
}
