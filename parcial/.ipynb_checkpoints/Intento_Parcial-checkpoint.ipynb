{
 "cells": [
  {
   "cell_type": "code",
   "execution_count": 9,
   "metadata": {},
   "outputs": [],
   "source": [
    "import math\n",
    "from math import pi, sqrt, tan, cos, sin\n",
    "from numpy import linspace, shape, array\n",
    "import matplotlib.pyplot as plt\n",
    "from scipy.integrate import odeint"
   ]
  },
  {
   "cell_type": "code",
   "execution_count": 21,
   "metadata": {},
   "outputs": [],
   "source": [
    "#parametros\n",
    "m=1 #masa pendulo\n",
    "M=0.5 #masa bloque\n",
    "l=2 #longitud de la cuerda\n",
    "g=9.8 #aceleracion de la gravedad en la tierra\n",
    "\n",
    "def pendulo (init, t):\n",
    "    \n",
    "    dx=init[3] #velocidad en x\n",
    "    dw=init[2] #velocidad angular\n",
    "    dy=init[4] #velocidad en y\n",
    "    x=init[1]+l*sin(init[0]) #posicion en funcion al angulo en x\n",
    "    y=l*cos(init[0]) #posicion en funcion al angulo en y\n",
    "    w=init[0] #angulo\n",
    "    \n",
    "    dv_w=((m*(dw**2)*cos(w)*sin(w))/(m*(cos(w)**2)*(M+m)))+(g*(M+m)*cos(w)*tan(w))/(l*(cos(w)**2)-(M+m)) #aceleracion angulo\n",
    "    dv_x=((-l*dv_w)/cos(w))-g*tan(w)  #aceleracion x  \n",
    "    \n",
    "    return array([dv_w,dv_x,dw,dx,dy],float)\n"
   ]
  },
  {
   "cell_type": "code",
   "execution_count": 22,
   "metadata": {},
   "outputs": [],
   "source": [
    "t= linspace(0, 4, 50)\n",
    "\n",
    "init= [pi/2, 1.,1.,1.,1.]\n",
    "\n",
    "sol,outodeint = odeint(pendulo, init, t, full_output=True)\n",
    "vww, vxx, xx, ww, yy = sol.T"
   ]
  },
  {
   "cell_type": "code",
   "execution_count": null,
   "metadata": {},
   "outputs": [],
   "source": []
  },
  {
   "cell_type": "code",
   "execution_count": null,
   "metadata": {},
   "outputs": [],
   "source": []
  }
 ],
 "metadata": {
  "kernelspec": {
   "display_name": "Python 3",
   "language": "python",
   "name": "python3"
  },
  "language_info": {
   "codemirror_mode": {
    "name": "ipython",
    "version": 3
   },
   "file_extension": ".py",
   "mimetype": "text/x-python",
   "name": "python",
   "nbconvert_exporter": "python",
   "pygments_lexer": "ipython3",
   "version": "3.6.8"
  }
 },
 "nbformat": 4,
 "nbformat_minor": 2
}
