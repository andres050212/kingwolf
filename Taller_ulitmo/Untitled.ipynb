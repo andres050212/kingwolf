{
 "cells": [
  {
   "cell_type": "code",
   "execution_count": 1,
   "metadata": {},
   "outputs": [],
   "source": [
    "from numpy import *\n",
    "from math import sin, cos, pi, exp, log\n",
    "from pylab import plot, xlabel, ylabel, show"
   ]
  },
  {
   "cell_type": "code",
   "execution_count": 2,
   "metadata": {},
   "outputs": [
    {
     "name": "stdout",
     "output_type": "stream",
     "text": [
      "0.7968126311118457\n"
     ]
    }
   ],
   "source": [
    "# contantes \n",
    "c = 2\n",
    "pre = 1e-6\n",
    "mi = 1.0\n",
    "err = 1.0\n",
    "\n",
    "while err > pre:\n",
    "    mi,mf = 1-exp(-c*mi),mi \n",
    "    err = ((mi-mf)/(1-exp(c*mf)/c))   \n",
    "print(mi)"
   ]
  },
  {
   "cell_type": "code",
   "execution_count": null,
   "metadata": {},
   "outputs": [],
   "source": []
  }
 ],
 "metadata": {
  "kernelspec": {
   "display_name": "Python 3",
   "language": "python",
   "name": "python3"
  },
  "language_info": {
   "codemirror_mode": {
    "name": "ipython",
    "version": 3
   },
   "file_extension": ".py",
   "mimetype": "text/x-python",
   "name": "python",
   "nbconvert_exporter": "python",
   "pygments_lexer": "ipython3",
   "version": "3.6.9"
  }
 },
 "nbformat": 4,
 "nbformat_minor": 2
}
