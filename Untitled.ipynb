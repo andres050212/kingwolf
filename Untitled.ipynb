{
 "cells": [
  {
   "cell_type": "code",
   "execution_count": 1,
   "metadata": {},
   "outputs": [
    {
     "ename": "SyntaxError",
     "evalue": "invalid syntax (<ipython-input-1-f0b4a3710181>, line 1)",
     "output_type": "error",
     "traceback": [
      "\u001b[0;36m  File \u001b[0;32m\"<ipython-input-1-f0b4a3710181>\"\u001b[0;36m, line \u001b[0;32m1\u001b[0m\n\u001b[0;31m    a=[0.723 1 1.524 5.203];\u001b[0m\n\u001b[0m             ^\u001b[0m\n\u001b[0;31mSyntaxError\u001b[0m\u001b[0;31m:\u001b[0m invalid syntax\n"
     ]
    }
   ],
   "source": [
    "a=[0.723 1 1.524 5.203];\n",
    "ex=[0.007 0.017 0.093 0.048];\n",
    "ang=linspace(0,2*pi,100);\n",
    "colores=['r' 'b' 'k' 'g'];\n",
    "planeta=['V' 'T' 'M' 'J'];\n",
    "hold on\n",
    "for i=1:length(a)\n",
    "    d=a(i)*(1-ex(i)^2);\n",
    "    r=d./(1+ex(i)*cos(ang));\n",
    "    x=r.*cos(ang);\n",
    "    y=r.*sin(ang);\n",
    "    plot(x,y,colores(i),'displayName',planeta(i)) \n",
    "end\n",
    "axis equal\n",
    "grid on\n",
    "xlabel('x')\n",
    "ylabel('y')\n",
    "title('Sistema solar')\n",
    "legend('-DynamicLegend','location','SouthEast')\n",
    "hold off \n"
   ]
  },
  {
   "cell_type": "code",
   "execution_count": null,
   "metadata": {},
   "outputs": [],
   "source": []
  }
 ],
 "metadata": {
  "kernelspec": {
   "display_name": "Python 3",
   "language": "python",
   "name": "python3"
  },
  "language_info": {
   "codemirror_mode": {
    "name": "ipython",
    "version": 3
   },
   "file_extension": ".py",
   "mimetype": "text/x-python",
   "name": "python",
   "nbconvert_exporter": "python",
   "pygments_lexer": "ipython3",
   "version": "3.6.8"
  }
 },
 "nbformat": 4,
 "nbformat_minor": 2
}
